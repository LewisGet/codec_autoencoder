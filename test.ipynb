{
 "cells": [
  {
   "cell_type": "code",
   "execution_count": 1,
   "metadata": {
    "collapsed": true
   },
   "outputs": [],
   "source": [
    "import tensorflow as tf\n",
    "import numpy as np"
   ]
  },
  {
   "cell_type": "code",
   "execution_count": 2,
   "metadata": {},
   "outputs": [],
   "source": [
    "test_dataset = list()"
   ]
  },
  {
   "cell_type": "code",
   "execution_count": 3,
   "metadata": {
    "collapsed": true
   },
   "outputs": [],
   "source": [
    "for i in range(10):\n",
    "    test_dataset.append(np.random.randint(3, size=(10, 10)))"
   ]
  },
  {
   "cell_type": "code",
   "execution_count": 15,
   "metadata": {},
   "outputs": [],
   "source": [
    "input_x = tf.placeholder(tf.float32, [None, 10, 10])"
   ]
  },
  {
   "cell_type": "code",
   "execution_count": 8,
   "metadata": {},
   "outputs": [],
   "source": [
    "encoder_weight_1 = tf.Variable(tf.truncated_normal([4, 4, 100]))\n",
    "encoder_weight_2 = tf.Variable(tf.truncated_normal([4, 4, 50]))\n",
    "encoder_weight_output = tf.Variable([4, 4, 25])"
   ]
  },
  {
   "cell_type": "code",
   "execution_count": 9,
   "metadata": {
    "collapsed": true
   },
   "outputs": [],
   "source": [
    "encoder_biases_1 = tf.Variable(tf.truncated_normal([100]))\n",
    "encoder_biases_2 = tf.Variable(tf.truncated_normal([50]))\n",
    "encoder_biases_output = tf.Variable(tf.truncated_normal([25]))"
   ]
  },
  {
   "cell_type": "code",
   "execution_count": 16,
   "metadata": {},
   "outputs": [
    {
     "ename": "ValueError",
     "evalue": "Dimensions must be equal, but are 10 and 4 for 'MatMul_2' (op: 'BatchMatMul') with input shapes: [?,10,10], [4,4,100].",
     "output_type": "error",
     "traceback": [
      "\u001b[0;31m---------------------------------------------------------------------------\u001b[0m",
      "\u001b[0;31mInvalidArgumentError\u001b[0m                      Traceback (most recent call last)",
      "\u001b[0;32m/usr/local/Cellar/python3/3.6.1/Frameworks/Python.framework/Versions/3.6/lib/python3.6/site-packages/tensorflow/python/framework/common_shapes.py\u001b[0m in \u001b[0;36m_call_cpp_shape_fn_impl\u001b[0;34m(op, input_tensors_needed, input_tensors_as_shapes_needed, debug_python_shape_fn, require_shape_fn)\u001b[0m\n\u001b[1;32m    670\u001b[0m           \u001b[0mgraph_def_version\u001b[0m\u001b[0;34m,\u001b[0m \u001b[0mnode_def_str\u001b[0m\u001b[0;34m,\u001b[0m \u001b[0minput_shapes\u001b[0m\u001b[0;34m,\u001b[0m \u001b[0minput_tensors\u001b[0m\u001b[0;34m,\u001b[0m\u001b[0;34m\u001b[0m\u001b[0m\n\u001b[0;32m--> 671\u001b[0;31m           input_tensors_as_shapes, status)\n\u001b[0m\u001b[1;32m    672\u001b[0m   \u001b[0;32mexcept\u001b[0m \u001b[0merrors\u001b[0m\u001b[0;34m.\u001b[0m\u001b[0mInvalidArgumentError\u001b[0m \u001b[0;32mas\u001b[0m \u001b[0merr\u001b[0m\u001b[0;34m:\u001b[0m\u001b[0;34m\u001b[0m\u001b[0m\n",
      "\u001b[0;32m/usr/local/Cellar/python3/3.6.1/Frameworks/Python.framework/Versions/3.6/lib/python3.6/contextlib.py\u001b[0m in \u001b[0;36m__exit__\u001b[0;34m(self, type, value, traceback)\u001b[0m\n\u001b[1;32m     88\u001b[0m             \u001b[0;32mtry\u001b[0m\u001b[0;34m:\u001b[0m\u001b[0;34m\u001b[0m\u001b[0m\n\u001b[0;32m---> 89\u001b[0;31m                 \u001b[0mnext\u001b[0m\u001b[0;34m(\u001b[0m\u001b[0mself\u001b[0m\u001b[0;34m.\u001b[0m\u001b[0mgen\u001b[0m\u001b[0;34m)\u001b[0m\u001b[0;34m\u001b[0m\u001b[0m\n\u001b[0m\u001b[1;32m     90\u001b[0m             \u001b[0;32mexcept\u001b[0m \u001b[0mStopIteration\u001b[0m\u001b[0;34m:\u001b[0m\u001b[0;34m\u001b[0m\u001b[0m\n",
      "\u001b[0;32m/usr/local/Cellar/python3/3.6.1/Frameworks/Python.framework/Versions/3.6/lib/python3.6/site-packages/tensorflow/python/framework/errors_impl.py\u001b[0m in \u001b[0;36mraise_exception_on_not_ok_status\u001b[0;34m()\u001b[0m\n\u001b[1;32m    465\u001b[0m           \u001b[0mcompat\u001b[0m\u001b[0;34m.\u001b[0m\u001b[0mas_text\u001b[0m\u001b[0;34m(\u001b[0m\u001b[0mpywrap_tensorflow\u001b[0m\u001b[0;34m.\u001b[0m\u001b[0mTF_Message\u001b[0m\u001b[0;34m(\u001b[0m\u001b[0mstatus\u001b[0m\u001b[0;34m)\u001b[0m\u001b[0;34m)\u001b[0m\u001b[0;34m,\u001b[0m\u001b[0;34m\u001b[0m\u001b[0m\n\u001b[0;32m--> 466\u001b[0;31m           pywrap_tensorflow.TF_GetCode(status))\n\u001b[0m\u001b[1;32m    467\u001b[0m   \u001b[0;32mfinally\u001b[0m\u001b[0;34m:\u001b[0m\u001b[0;34m\u001b[0m\u001b[0m\n",
      "\u001b[0;31mInvalidArgumentError\u001b[0m: Dimensions must be equal, but are 10 and 4 for 'MatMul_2' (op: 'BatchMatMul') with input shapes: [?,10,10], [4,4,100].",
      "\nDuring handling of the above exception, another exception occurred:\n",
      "\u001b[0;31mValueError\u001b[0m                                Traceback (most recent call last)",
      "\u001b[0;32m<ipython-input-16-1174193260dd>\u001b[0m in \u001b[0;36m<module>\u001b[0;34m()\u001b[0m\n\u001b[0;32m----> 1\u001b[0;31m \u001b[0mencoder_layer1\u001b[0m \u001b[0;34m=\u001b[0m \u001b[0mtf\u001b[0m\u001b[0;34m.\u001b[0m\u001b[0madd\u001b[0m\u001b[0;34m(\u001b[0m\u001b[0mtf\u001b[0m\u001b[0;34m.\u001b[0m\u001b[0mmatmul\u001b[0m\u001b[0;34m(\u001b[0m\u001b[0minput_x\u001b[0m\u001b[0;34m,\u001b[0m \u001b[0mencoder_weight_1\u001b[0m\u001b[0;34m)\u001b[0m\u001b[0;34m,\u001b[0m \u001b[0mencoder_biases_1\u001b[0m\u001b[0;34m)\u001b[0m\u001b[0;34m\u001b[0m\u001b[0m\n\u001b[0m\u001b[1;32m      2\u001b[0m \u001b[0mencoder_layer1\u001b[0m \u001b[0;34m=\u001b[0m \u001b[0mtf\u001b[0m\u001b[0;34m.\u001b[0m\u001b[0mnn\u001b[0m\u001b[0;34m.\u001b[0m\u001b[0msigmoid\u001b[0m\u001b[0;34m(\u001b[0m\u001b[0mlayer1\u001b[0m\u001b[0;34m)\u001b[0m\u001b[0;34m\u001b[0m\u001b[0m\n",
      "\u001b[0;32m/usr/local/Cellar/python3/3.6.1/Frameworks/Python.framework/Versions/3.6/lib/python3.6/site-packages/tensorflow/python/ops/math_ops.py\u001b[0m in \u001b[0;36mmatmul\u001b[0;34m(a, b, transpose_a, transpose_b, adjoint_a, adjoint_b, a_is_sparse, b_is_sparse, name)\u001b[0m\n\u001b[1;32m   1769\u001b[0m         \u001b[0madjoint_b\u001b[0m \u001b[0;34m=\u001b[0m \u001b[0;32mTrue\u001b[0m\u001b[0;34m\u001b[0m\u001b[0m\n\u001b[1;32m   1770\u001b[0m       return gen_math_ops._batch_mat_mul(\n\u001b[0;32m-> 1771\u001b[0;31m           a, b, adj_x=adjoint_a, adj_y=adjoint_b, name=name)\n\u001b[0m\u001b[1;32m   1772\u001b[0m \u001b[0;34m\u001b[0m\u001b[0m\n\u001b[1;32m   1773\u001b[0m     \u001b[0;31m# Neither matmul nor sparse_matmul support adjoint, so we conjugate\u001b[0m\u001b[0;34m\u001b[0m\u001b[0;34m\u001b[0m\u001b[0m\n",
      "\u001b[0;32m/usr/local/Cellar/python3/3.6.1/Frameworks/Python.framework/Versions/3.6/lib/python3.6/site-packages/tensorflow/python/ops/gen_math_ops.py\u001b[0m in \u001b[0;36m_batch_mat_mul\u001b[0;34m(x, y, adj_x, adj_y, name)\u001b[0m\n\u001b[1;32m    286\u001b[0m   \"\"\"\n\u001b[1;32m    287\u001b[0m   result = _op_def_lib.apply_op(\"BatchMatMul\", x=x, y=y, adj_x=adj_x,\n\u001b[0;32m--> 288\u001b[0;31m                                 adj_y=adj_y, name=name)\n\u001b[0m\u001b[1;32m    289\u001b[0m   \u001b[0;32mreturn\u001b[0m \u001b[0mresult\u001b[0m\u001b[0;34m\u001b[0m\u001b[0m\n\u001b[1;32m    290\u001b[0m \u001b[0;34m\u001b[0m\u001b[0m\n",
      "\u001b[0;32m/usr/local/Cellar/python3/3.6.1/Frameworks/Python.framework/Versions/3.6/lib/python3.6/site-packages/tensorflow/python/framework/op_def_library.py\u001b[0m in \u001b[0;36mapply_op\u001b[0;34m(self, op_type_name, name, **keywords)\u001b[0m\n\u001b[1;32m    766\u001b[0m         op = g.create_op(op_type_name, inputs, output_types, name=scope,\n\u001b[1;32m    767\u001b[0m                          \u001b[0minput_types\u001b[0m\u001b[0;34m=\u001b[0m\u001b[0minput_types\u001b[0m\u001b[0;34m,\u001b[0m \u001b[0mattrs\u001b[0m\u001b[0;34m=\u001b[0m\u001b[0mattr_protos\u001b[0m\u001b[0;34m,\u001b[0m\u001b[0;34m\u001b[0m\u001b[0m\n\u001b[0;32m--> 768\u001b[0;31m                          op_def=op_def)\n\u001b[0m\u001b[1;32m    769\u001b[0m         \u001b[0;32mif\u001b[0m \u001b[0moutput_structure\u001b[0m\u001b[0;34m:\u001b[0m\u001b[0;34m\u001b[0m\u001b[0m\n\u001b[1;32m    770\u001b[0m           \u001b[0moutputs\u001b[0m \u001b[0;34m=\u001b[0m \u001b[0mop\u001b[0m\u001b[0;34m.\u001b[0m\u001b[0moutputs\u001b[0m\u001b[0;34m\u001b[0m\u001b[0m\n",
      "\u001b[0;32m/usr/local/Cellar/python3/3.6.1/Frameworks/Python.framework/Versions/3.6/lib/python3.6/site-packages/tensorflow/python/framework/ops.py\u001b[0m in \u001b[0;36mcreate_op\u001b[0;34m(self, op_type, inputs, dtypes, input_types, name, attrs, op_def, compute_shapes, compute_device)\u001b[0m\n\u001b[1;32m   2336\u001b[0m                     original_op=self._default_original_op, op_def=op_def)\n\u001b[1;32m   2337\u001b[0m     \u001b[0;32mif\u001b[0m \u001b[0mcompute_shapes\u001b[0m\u001b[0;34m:\u001b[0m\u001b[0;34m\u001b[0m\u001b[0m\n\u001b[0;32m-> 2338\u001b[0;31m       \u001b[0mset_shapes_for_outputs\u001b[0m\u001b[0;34m(\u001b[0m\u001b[0mret\u001b[0m\u001b[0;34m)\u001b[0m\u001b[0;34m\u001b[0m\u001b[0m\n\u001b[0m\u001b[1;32m   2339\u001b[0m     \u001b[0mself\u001b[0m\u001b[0;34m.\u001b[0m\u001b[0m_add_op\u001b[0m\u001b[0;34m(\u001b[0m\u001b[0mret\u001b[0m\u001b[0;34m)\u001b[0m\u001b[0;34m\u001b[0m\u001b[0m\n\u001b[1;32m   2340\u001b[0m     \u001b[0mself\u001b[0m\u001b[0;34m.\u001b[0m\u001b[0m_record_op_seen_by_control_dependencies\u001b[0m\u001b[0;34m(\u001b[0m\u001b[0mret\u001b[0m\u001b[0;34m)\u001b[0m\u001b[0;34m\u001b[0m\u001b[0m\n",
      "\u001b[0;32m/usr/local/Cellar/python3/3.6.1/Frameworks/Python.framework/Versions/3.6/lib/python3.6/site-packages/tensorflow/python/framework/ops.py\u001b[0m in \u001b[0;36mset_shapes_for_outputs\u001b[0;34m(op)\u001b[0m\n\u001b[1;32m   1717\u001b[0m       \u001b[0mshape_func\u001b[0m \u001b[0;34m=\u001b[0m \u001b[0m_call_cpp_shape_fn_and_require_op\u001b[0m\u001b[0;34m\u001b[0m\u001b[0m\n\u001b[1;32m   1718\u001b[0m \u001b[0;34m\u001b[0m\u001b[0m\n\u001b[0;32m-> 1719\u001b[0;31m   \u001b[0mshapes\u001b[0m \u001b[0;34m=\u001b[0m \u001b[0mshape_func\u001b[0m\u001b[0;34m(\u001b[0m\u001b[0mop\u001b[0m\u001b[0;34m)\u001b[0m\u001b[0;34m\u001b[0m\u001b[0m\n\u001b[0m\u001b[1;32m   1720\u001b[0m   \u001b[0;32mif\u001b[0m \u001b[0mshapes\u001b[0m \u001b[0;32mis\u001b[0m \u001b[0;32mNone\u001b[0m\u001b[0;34m:\u001b[0m\u001b[0;34m\u001b[0m\u001b[0m\n\u001b[1;32m   1721\u001b[0m     raise RuntimeError(\n",
      "\u001b[0;32m/usr/local/Cellar/python3/3.6.1/Frameworks/Python.framework/Versions/3.6/lib/python3.6/site-packages/tensorflow/python/framework/ops.py\u001b[0m in \u001b[0;36mcall_with_requiring\u001b[0;34m(op)\u001b[0m\n\u001b[1;32m   1667\u001b[0m \u001b[0;34m\u001b[0m\u001b[0m\n\u001b[1;32m   1668\u001b[0m   \u001b[0;32mdef\u001b[0m \u001b[0mcall_with_requiring\u001b[0m\u001b[0;34m(\u001b[0m\u001b[0mop\u001b[0m\u001b[0;34m)\u001b[0m\u001b[0;34m:\u001b[0m\u001b[0;34m\u001b[0m\u001b[0m\n\u001b[0;32m-> 1669\u001b[0;31m     \u001b[0;32mreturn\u001b[0m \u001b[0mcall_cpp_shape_fn\u001b[0m\u001b[0;34m(\u001b[0m\u001b[0mop\u001b[0m\u001b[0;34m,\u001b[0m \u001b[0mrequire_shape_fn\u001b[0m\u001b[0;34m=\u001b[0m\u001b[0;32mTrue\u001b[0m\u001b[0;34m)\u001b[0m\u001b[0;34m\u001b[0m\u001b[0m\n\u001b[0m\u001b[1;32m   1670\u001b[0m \u001b[0;34m\u001b[0m\u001b[0m\n\u001b[1;32m   1671\u001b[0m   \u001b[0m_call_cpp_shape_fn_and_require_op\u001b[0m \u001b[0;34m=\u001b[0m \u001b[0mcall_with_requiring\u001b[0m\u001b[0;34m\u001b[0m\u001b[0m\n",
      "\u001b[0;32m/usr/local/Cellar/python3/3.6.1/Frameworks/Python.framework/Versions/3.6/lib/python3.6/site-packages/tensorflow/python/framework/common_shapes.py\u001b[0m in \u001b[0;36mcall_cpp_shape_fn\u001b[0;34m(op, input_tensors_needed, input_tensors_as_shapes_needed, debug_python_shape_fn, require_shape_fn)\u001b[0m\n\u001b[1;32m    608\u001b[0m     res = _call_cpp_shape_fn_impl(op, input_tensors_needed,\n\u001b[1;32m    609\u001b[0m                                   \u001b[0minput_tensors_as_shapes_needed\u001b[0m\u001b[0;34m,\u001b[0m\u001b[0;34m\u001b[0m\u001b[0m\n\u001b[0;32m--> 610\u001b[0;31m                                   debug_python_shape_fn, require_shape_fn)\n\u001b[0m\u001b[1;32m    611\u001b[0m     \u001b[0;32mif\u001b[0m \u001b[0;32mnot\u001b[0m \u001b[0misinstance\u001b[0m\u001b[0;34m(\u001b[0m\u001b[0mres\u001b[0m\u001b[0;34m,\u001b[0m \u001b[0mdict\u001b[0m\u001b[0;34m)\u001b[0m\u001b[0;34m:\u001b[0m\u001b[0;34m\u001b[0m\u001b[0m\n\u001b[1;32m    612\u001b[0m       \u001b[0;31m# Handles the case where _call_cpp_shape_fn_impl calls unknown_shape(op).\u001b[0m\u001b[0;34m\u001b[0m\u001b[0;34m\u001b[0m\u001b[0m\n",
      "\u001b[0;32m/usr/local/Cellar/python3/3.6.1/Frameworks/Python.framework/Versions/3.6/lib/python3.6/site-packages/tensorflow/python/framework/common_shapes.py\u001b[0m in \u001b[0;36m_call_cpp_shape_fn_impl\u001b[0;34m(op, input_tensors_needed, input_tensors_as_shapes_needed, debug_python_shape_fn, require_shape_fn)\u001b[0m\n\u001b[1;32m    674\u001b[0m       \u001b[0mmissing_shape_fn\u001b[0m \u001b[0;34m=\u001b[0m \u001b[0;32mTrue\u001b[0m\u001b[0;34m\u001b[0m\u001b[0m\n\u001b[1;32m    675\u001b[0m     \u001b[0;32melse\u001b[0m\u001b[0;34m:\u001b[0m\u001b[0;34m\u001b[0m\u001b[0m\n\u001b[0;32m--> 676\u001b[0;31m       \u001b[0;32mraise\u001b[0m \u001b[0mValueError\u001b[0m\u001b[0;34m(\u001b[0m\u001b[0merr\u001b[0m\u001b[0;34m.\u001b[0m\u001b[0mmessage\u001b[0m\u001b[0;34m)\u001b[0m\u001b[0;34m\u001b[0m\u001b[0m\n\u001b[0m\u001b[1;32m    677\u001b[0m \u001b[0;34m\u001b[0m\u001b[0m\n\u001b[1;32m    678\u001b[0m   \u001b[0;32mif\u001b[0m \u001b[0mmissing_shape_fn\u001b[0m\u001b[0;34m:\u001b[0m\u001b[0;34m\u001b[0m\u001b[0m\n",
      "\u001b[0;31mValueError\u001b[0m: Dimensions must be equal, but are 10 and 4 for 'MatMul_2' (op: 'BatchMatMul') with input shapes: [?,10,10], [4,4,100]."
     ]
    }
   ],
   "source": [
    "encoder_layer1 = tf.add(tf.matmul(input_x, encoder_weight_1), encoder_biases_1)\n",
    "encoder_layer1 = tf.nn.sigmoid(layer1)"
   ]
  },
  {
   "cell_type": "code",
   "execution_count": null,
   "metadata": {
    "collapsed": true
   },
   "outputs": [],
   "source": []
  },
  {
   "cell_type": "code",
   "execution_count": null,
   "metadata": {
    "collapsed": true
   },
   "outputs": [],
   "source": []
  },
  {
   "cell_type": "code",
   "execution_count": 10,
   "metadata": {
    "collapsed": true
   },
   "outputs": [],
   "source": [
    "decoder_weight_1 = tf.Variable(tf.truncated_normal([4, 4, 25]))\n",
    "decoder_weight_2 = tf.Variable(tf.truncated_normal([4, 4, 50]))\n",
    "decoder_weight_output = tf.Variable([4, 4, 100])"
   ]
  },
  {
   "cell_type": "code",
   "execution_count": 11,
   "metadata": {
    "collapsed": true
   },
   "outputs": [],
   "source": [
    "decoder_biases_1 = tf.Variable(tf.truncated_normal([25]))\n",
    "decoder_biases_2 = tf.Variable(tf.truncated_normal([50]))\n",
    "decoder_biases_output = tf.Variable(tf.truncated_normal([100]))"
   ]
  },
  {
   "cell_type": "code",
   "execution_count": null,
   "metadata": {
    "collapsed": true
   },
   "outputs": [],
   "source": []
  },
  {
   "cell_type": "code",
   "execution_count": null,
   "metadata": {
    "collapsed": true
   },
   "outputs": [],
   "source": []
  },
  {
   "cell_type": "code",
   "execution_count": 16,
   "metadata": {
    "collapsed": true
   },
   "outputs": [],
   "source": [
    "sess = tf.Session()"
   ]
  },
  {
   "cell_type": "code",
   "execution_count": 21,
   "metadata": {},
   "outputs": [
    {
     "data": {
      "text/plain": [
       "array([[[2, 0, 2, 2, 0, 0, 0, 0, 2, 4],\n",
       "        [2, 0, 2, 0, 0, 2, 0, 4, 0, 0],\n",
       "        [0, 4, 4, 4, 4, 4, 2, 2, 2, 2],\n",
       "        [4, 0, 2, 0, 0, 0, 4, 2, 4, 4],\n",
       "        [4, 2, 0, 4, 4, 4, 0, 0, 4, 2],\n",
       "        [0, 0, 0, 0, 4, 4, 4, 0, 0, 0],\n",
       "        [2, 2, 2, 2, 4, 0, 2, 4, 4, 2],\n",
       "        [2, 0, 4, 0, 0, 2, 0, 0, 2, 2],\n",
       "        [2, 2, 2, 0, 0, 4, 2, 2, 4, 2],\n",
       "        [2, 0, 4, 0, 4, 0, 0, 4, 0, 4]],\n",
       "\n",
       "       [[0, 0, 2, 4, 0, 2, 0, 0, 0, 4],\n",
       "        [4, 4, 0, 0, 2, 2, 4, 0, 2, 4],\n",
       "        [0, 2, 2, 4, 0, 0, 0, 2, 2, 4],\n",
       "        [2, 2, 2, 4, 2, 0, 0, 4, 4, 2],\n",
       "        [4, 0, 0, 4, 4, 2, 4, 2, 2, 4],\n",
       "        [4, 4, 0, 2, 4, 4, 4, 4, 2, 0],\n",
       "        [2, 2, 4, 4, 0, 0, 0, 0, 2, 2],\n",
       "        [0, 4, 0, 4, 2, 0, 0, 4, 0, 0],\n",
       "        [0, 0, 2, 4, 0, 2, 4, 0, 4, 0],\n",
       "        [2, 4, 4, 4, 0, 0, 2, 2, 2, 4]],\n",
       "\n",
       "       [[0, 2, 4, 4, 4, 4, 4, 4, 4, 4],\n",
       "        [0, 0, 0, 4, 4, 0, 0, 4, 4, 4],\n",
       "        [2, 4, 4, 4, 2, 4, 2, 2, 0, 0],\n",
       "        [4, 2, 4, 4, 2, 2, 4, 2, 0, 4],\n",
       "        [0, 2, 2, 0, 4, 4, 4, 0, 2, 4],\n",
       "        [0, 4, 2, 2, 0, 2, 0, 4, 2, 0],\n",
       "        [0, 0, 0, 2, 4, 2, 4, 2, 0, 2],\n",
       "        [2, 2, 2, 2, 4, 4, 0, 4, 0, 4],\n",
       "        [0, 4, 0, 0, 4, 2, 2, 0, 0, 2],\n",
       "        [0, 2, 0, 4, 2, 2, 0, 2, 2, 2]],\n",
       "\n",
       "       [[4, 0, 4, 2, 4, 0, 4, 0, 0, 0],\n",
       "        [0, 2, 4, 0, 0, 0, 4, 0, 2, 4],\n",
       "        [0, 2, 4, 2, 4, 0, 0, 4, 4, 0],\n",
       "        [2, 0, 0, 0, 2, 0, 2, 2, 4, 4],\n",
       "        [0, 0, 4, 0, 4, 4, 2, 0, 2, 2],\n",
       "        [4, 0, 0, 0, 0, 4, 2, 4, 0, 0],\n",
       "        [0, 4, 4, 2, 0, 0, 0, 0, 0, 4],\n",
       "        [2, 2, 2, 2, 2, 4, 2, 0, 4, 2],\n",
       "        [0, 2, 2, 0, 4, 2, 4, 2, 0, 4],\n",
       "        [2, 2, 4, 0, 2, 2, 4, 2, 0, 2]],\n",
       "\n",
       "       [[2, 2, 4, 4, 4, 2, 2, 4, 0, 4],\n",
       "        [2, 4, 4, 4, 4, 2, 0, 4, 0, 4],\n",
       "        [2, 2, 2, 4, 2, 2, 4, 2, 4, 0],\n",
       "        [4, 0, 0, 4, 2, 2, 2, 0, 2, 4],\n",
       "        [2, 0, 0, 2, 4, 0, 0, 0, 2, 4],\n",
       "        [0, 2, 2, 2, 4, 2, 2, 2, 0, 0],\n",
       "        [4, 2, 0, 2, 0, 4, 0, 0, 2, 2],\n",
       "        [0, 4, 4, 4, 2, 2, 2, 2, 0, 2],\n",
       "        [4, 0, 2, 2, 2, 2, 0, 4, 2, 2],\n",
       "        [0, 4, 2, 0, 2, 0, 4, 4, 2, 0]],\n",
       "\n",
       "       [[0, 4, 0, 0, 2, 0, 4, 0, 0, 4],\n",
       "        [0, 2, 2, 4, 2, 4, 2, 0, 2, 2],\n",
       "        [0, 4, 0, 2, 0, 4, 2, 0, 2, 2],\n",
       "        [2, 0, 4, 4, 4, 2, 0, 4, 0, 2],\n",
       "        [2, 2, 2, 0, 0, 2, 4, 2, 0, 4],\n",
       "        [0, 0, 0, 0, 2, 0, 2, 2, 2, 4],\n",
       "        [2, 2, 0, 0, 4, 0, 0, 0, 0, 0],\n",
       "        [4, 4, 4, 2, 2, 2, 0, 4, 4, 4],\n",
       "        [4, 0, 4, 0, 0, 4, 2, 4, 0, 0],\n",
       "        [4, 4, 0, 4, 2, 0, 2, 2, 2, 0]],\n",
       "\n",
       "       [[2, 0, 0, 0, 2, 0, 2, 0, 2, 4],\n",
       "        [2, 0, 2, 2, 0, 4, 2, 2, 0, 4],\n",
       "        [4, 2, 2, 4, 2, 4, 0, 0, 0, 4],\n",
       "        [0, 0, 2, 0, 4, 4, 2, 4, 4, 2],\n",
       "        [0, 4, 0, 0, 0, 4, 0, 2, 4, 2],\n",
       "        [4, 0, 4, 0, 4, 0, 2, 0, 4, 2],\n",
       "        [4, 0, 4, 4, 0, 0, 4, 0, 0, 0],\n",
       "        [0, 2, 0, 2, 4, 4, 0, 2, 2, 0],\n",
       "        [4, 0, 0, 2, 4, 0, 4, 4, 2, 0],\n",
       "        [0, 2, 2, 2, 2, 2, 4, 2, 0, 2]],\n",
       "\n",
       "       [[2, 2, 2, 0, 2, 2, 0, 4, 4, 4],\n",
       "        [2, 4, 4, 2, 4, 2, 0, 4, 0, 2],\n",
       "        [2, 2, 4, 4, 4, 0, 2, 0, 0, 2],\n",
       "        [2, 0, 4, 0, 0, 4, 4, 2, 4, 4],\n",
       "        [4, 0, 2, 4, 2, 2, 0, 4, 0, 2],\n",
       "        [4, 4, 4, 2, 4, 0, 4, 0, 2, 4],\n",
       "        [0, 4, 2, 0, 4, 0, 2, 4, 0, 0],\n",
       "        [2, 4, 0, 4, 0, 4, 4, 2, 0, 2],\n",
       "        [2, 0, 0, 2, 0, 2, 0, 2, 0, 4],\n",
       "        [2, 0, 2, 2, 0, 2, 0, 0, 0, 4]],\n",
       "\n",
       "       [[2, 4, 0, 4, 2, 2, 2, 0, 4, 4],\n",
       "        [2, 4, 0, 4, 2, 0, 2, 4, 0, 0],\n",
       "        [2, 2, 2, 0, 2, 4, 0, 2, 2, 4],\n",
       "        [0, 0, 2, 4, 4, 4, 2, 4, 0, 0],\n",
       "        [2, 4, 4, 4, 2, 0, 0, 0, 0, 2],\n",
       "        [4, 4, 2, 2, 4, 4, 0, 2, 2, 4],\n",
       "        [4, 4, 4, 2, 0, 0, 4, 2, 0, 4],\n",
       "        [0, 0, 4, 4, 0, 4, 2, 2, 2, 4],\n",
       "        [4, 0, 0, 2, 2, 2, 4, 4, 4, 4],\n",
       "        [4, 0, 4, 2, 2, 2, 4, 0, 4, 0]],\n",
       "\n",
       "       [[4, 4, 4, 0, 2, 4, 4, 0, 2, 2],\n",
       "        [2, 2, 0, 0, 0, 4, 0, 2, 0, 4],\n",
       "        [4, 0, 4, 2, 4, 4, 4, 0, 4, 0],\n",
       "        [4, 4, 4, 2, 4, 4, 4, 2, 4, 0],\n",
       "        [4, 0, 4, 2, 4, 4, 0, 0, 2, 4],\n",
       "        [2, 4, 0, 0, 2, 2, 2, 0, 4, 2],\n",
       "        [2, 2, 0, 4, 2, 0, 4, 2, 0, 0],\n",
       "        [0, 4, 2, 2, 0, 4, 0, 2, 0, 0],\n",
       "        [4, 0, 4, 4, 2, 4, 2, 2, 0, 4],\n",
       "        [2, 0, 4, 2, 2, 4, 2, 4, 0, 2]]], dtype=int8)"
      ]
     },
     "execution_count": 21,
     "metadata": {},
     "output_type": "execute_result"
    }
   ],
   "source": [
    "sess.run(test_working, feed_dict={input_x: test_dataset})"
   ]
  },
  {
   "cell_type": "code",
   "execution_count": null,
   "metadata": {
    "collapsed": true
   },
   "outputs": [],
   "source": []
  },
  {
   "cell_type": "code",
   "execution_count": null,
   "metadata": {
    "collapsed": true
   },
   "outputs": [],
   "source": []
  }
 ],
 "metadata": {
  "kernelspec": {
   "display_name": "Python 3",
   "language": "python",
   "name": "python3"
  },
  "language_info": {
   "codemirror_mode": {
    "name": "ipython",
    "version": 3
   },
   "file_extension": ".py",
   "mimetype": "text/x-python",
   "name": "python",
   "nbconvert_exporter": "python",
   "pygments_lexer": "ipython3",
   "version": "3.6.1"
  }
 },
 "nbformat": 4,
 "nbformat_minor": 2
}
