{
 "cells": [
  {
   "cell_type": "code",
   "execution_count": 25,
   "metadata": {},
   "outputs": [],
   "source": [
    "import tensorflow as tf\n",
    "import numpy as np"
   ]
  },
  {
   "cell_type": "code",
   "execution_count": 26,
   "metadata": {},
   "outputs": [],
   "source": [
    "image_size = int (10 * 10 * 3)\n",
    "layer_size_1 = int (image_size / 2)\n",
    "layer_size_2 = int (layer_size_1 / 2)"
   ]
  },
  {
   "cell_type": "code",
   "execution_count": 27,
   "metadata": {},
   "outputs": [],
   "source": [
    "learning_rate = 0.05"
   ]
  },
  {
   "cell_type": "code",
   "execution_count": 28,
   "metadata": {},
   "outputs": [],
   "source": [
    "test_dataset = list()\n",
    "\n",
    "for i in range(10):\n",
    "    test_dataset.append(np.random.uniform(0, 1, size=(10, 10, 3)).reshape(10 * 10 * 3))"
   ]
  },
  {
   "cell_type": "code",
   "execution_count": 29,
   "metadata": {},
   "outputs": [],
   "source": [
    "input_x = tf.placeholder(tf.float32, [None, 10 * 10 * 3])"
   ]
  },
  {
   "cell_type": "code",
   "execution_count": 30,
   "metadata": {},
   "outputs": [],
   "source": [
    "input_decoder = tf.placeholder(tf.float32, [layer_size_1, layer_size_2])"
   ]
  },
  {
   "cell_type": "code",
   "execution_count": 31,
   "metadata": {},
   "outputs": [],
   "source": [
    "encoder_weight_1 = tf.Variable(tf.truncated_normal([image_size, layer_size_1]))\n",
    "encoder_weight_2 = tf.Variable(tf.truncated_normal([layer_size_1, layer_size_2]))\n",
    "\n",
    "encoder_biases_1 = tf.Variable(tf.truncated_normal([layer_size_1]))\n",
    "encoder_biases_2 = tf.Variable(tf.truncated_normal([layer_size_2]))"
   ]
  },
  {
   "cell_type": "code",
   "execution_count": 32,
   "metadata": {},
   "outputs": [],
   "source": [
    "encoder_layer1 = tf.add(tf.matmul(input_x, encoder_weight_1), encoder_biases_1)\n",
    "encoder_layer1 = tf.nn.sigmoid(encoder_layer1)\n",
    "\n",
    "encoder_layer2 = tf.add(tf.matmul(encoder_layer1, encoder_weight_2), encoder_biases_2)\n",
    "encoder_layer2 = tf.nn.sigmoid(encoder_layer2)"
   ]
  },
  {
   "cell_type": "code",
   "execution_count": 33,
   "metadata": {},
   "outputs": [],
   "source": [
    "decoder_weight_1 = tf.Variable(tf.truncated_normal([layer_size_2, layer_size_1]))\n",
    "decoder_weight_2 = tf.Variable(tf.truncated_normal([layer_size_1, image_size]))\n",
    "\n",
    "decoder_biases_1 = tf.Variable(tf.truncated_normal([layer_size_1]))\n",
    "decoder_biases_2 = tf.Variable(tf.truncated_normal([image_size]))"
   ]
  },
  {
   "cell_type": "code",
   "execution_count": 34,
   "metadata": {},
   "outputs": [],
   "source": [
    "decoder_layer1 = tf.add(tf.matmul(encoder_layer2, decoder_weight_1), decoder_biases_1)\n",
    "decoder_layer1 = tf.nn.sigmoid(decoder_layer1)\n",
    "\n",
    "decoder_layer2 = tf.add(tf.matmul(decoder_layer1, decoder_weight_2), decoder_biases_2)\n",
    "decoder_layer2 = tf.nn.sigmoid(decoder_layer2)"
   ]
  },
  {
   "cell_type": "code",
   "execution_count": 35,
   "metadata": {},
   "outputs": [],
   "source": [
    "_f = decoder_layer2\n",
    "f = input_x"
   ]
  },
  {
   "cell_type": "code",
   "execution_count": 36,
   "metadata": {},
   "outputs": [],
   "source": [
    "loss = tf.reduce_mean(tf.pow(f - _f, 2))\n",
    "optimizer = tf.train.RMSPropOptimizer(learning_rate).minimize(loss)"
   ]
  },
  {
   "cell_type": "code",
   "execution_count": 37,
   "metadata": {},
   "outputs": [],
   "source": [
    "sess = tf.Session()"
   ]
  },
  {
   "cell_type": "code",
   "execution_count": 38,
   "metadata": {},
   "outputs": [],
   "source": [
    "sess.run(tf.global_variables_initializer())"
   ]
  },
  {
   "cell_type": "code",
   "execution_count": 39,
   "metadata": {},
   "outputs": [
    {
     "name": "stdout",
     "output_type": "stream",
     "text": [
      "0.28721574\n",
      "0.2304908\n",
      "0.17457482\n",
      "0.03832796\n",
      "0.026654098\n",
      "0.030147146\n",
      "0.028043713\n",
      "0.030767146\n",
      "0.030345265\n",
      "0.028766934\n"
     ]
    }
   ],
   "source": [
    "for i in range(1000):\n",
    "    sess.run(optimizer, feed_dict={input_x: test_dataset})\n",
    "    \n",
    "    if i % 100 == 0:\n",
    "        print (sess.run(loss, feed_dict={input_x: test_dataset}))"
   ]
  },
  {
   "cell_type": "code",
   "execution_count": 40,
   "metadata": {},
   "outputs": [],
   "source": [
    "from matplotlib import pyplot as plt"
   ]
  },
  {
   "cell_type": "code",
   "execution_count": 41,
   "metadata": {},
   "outputs": [],
   "source": [
    "test_data_view = np.array(test_dataset[0]).reshape((10, 10, 3))"
   ]
  },
  {
   "cell_type": "code",
   "execution_count": 42,
   "metadata": {},
   "outputs": [
    {
     "data": {
      "image/png": "[encoded data removed]",
      "text/plain": [
       "<Figure size 432x288 with 1 Axes>"
      ]
     },
     "metadata": {},
     "output_type": "display_data"
    }
   ],
   "source": [
    "encoder_build_data = np.array(sess.run(decoder_layer2, feed_dict={input_x: [test_dataset[0]]})[0]).reshape((10, 10, 3))\n",
    "\n",
    "plt.imshow(encoder_build_data)\n",
    "plt.show()"
   ]
  },
  {
   "cell_type": "code",
   "execution_count": 43,
   "metadata": {},
   "outputs": [
    {
     "data": {
      "image/png": "[encoded data removed]",
      "text/plain": [
       "<Figure size 432x288 with 1 Axes>"
      ]
     },
     "metadata": {},
     "output_type": "display_data"
    }
   ],
   "source": [
    "plt.imshow(test_data_view)\n",
    "plt.show()"
   ]
  },
  {
   "cell_type": "code",
   "execution_count": null,
   "metadata": {},
   "outputs": [],
   "source": []
  }
 ],
 "metadata": {
  "kernelspec": {
   "display_name": "Python 3",
   "language": "python",
   "name": "python3"
  },
  "language_info": {
   "codemirror_mode": {
    "name": "ipython",
    "version": 3
   },
   "file_extension": ".py",
   "mimetype": "text/x-python",
   "name": "python",
   "nbconvert_exporter": "python",
   "pygments_lexer": "ipython3",
   "version": "3.6.5"
  }
 },
 "nbformat": 4,
 "nbformat_minor": 2
}
